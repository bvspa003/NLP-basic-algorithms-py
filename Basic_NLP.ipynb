{
  "nbformat": 4,
  "nbformat_minor": 0,
  "metadata": {
    "colab": {
      "name": "Basic_NLP.ipynb",
      "provenance": [],
      "collapsed_sections": []
    },
    "kernelspec": {
      "name": "python3",
      "display_name": "Python 3"
    },
    "language_info": {
      "name": "python"
    }
  },
  "cells": [
    {
      "cell_type": "code",
      "metadata": {
        "colab": {
          "base_uri": "https://localhost:8080/"
        },
        "id": "O5DbH8fHxVFH",
        "outputId": "3b2ddc22-4bd9-4f1a-9627-260e1614d8e0"
      },
      "source": [
        "!pip install sumy\n"
      ],
      "execution_count": null,
      "outputs": [
        {
          "output_type": "stream",
          "text": [
            "Collecting sumy\n",
            "\u001b[?25l  Downloading https://files.pythonhosted.org/packages/61/20/8abf92617ec80a2ebaec8dc1646a790fc9656a4a4377ddb9f0cc90bc9326/sumy-0.8.1-py2.py3-none-any.whl (83kB)\n",
            "\r\u001b[K     |████                            | 10kB 13.6MB/s eta 0:00:01\r\u001b[K     |███████▉                        | 20kB 18.5MB/s eta 0:00:01\r\u001b[K     |███████████▊                    | 30kB 10.9MB/s eta 0:00:01\r\u001b[K     |███████████████▋                | 40kB 9.0MB/s eta 0:00:01\r\u001b[K     |███████████████████▌            | 51kB 5.4MB/s eta 0:00:01\r\u001b[K     |███████████████████████▍        | 61kB 5.9MB/s eta 0:00:01\r\u001b[K     |███████████████████████████▍    | 71kB 6.1MB/s eta 0:00:01\r\u001b[K     |███████████████████████████████▎| 81kB 6.5MB/s eta 0:00:01\r\u001b[K     |████████████████████████████████| 92kB 4.1MB/s \n",
            "\u001b[?25hCollecting breadability>=0.1.20\n",
            "  Downloading https://files.pythonhosted.org/packages/ad/2d/bb6c9b381e6b6a432aa2ffa8f4afdb2204f1ff97cfcc0766a5b7683fec43/breadability-0.1.20.tar.gz\n",
            "Collecting pycountry>=18.2.23\n",
            "\u001b[?25l  Downloading https://files.pythonhosted.org/packages/76/73/6f1a412f14f68c273feea29a6ea9b9f1e268177d32e0e69ad6790d306312/pycountry-20.7.3.tar.gz (10.1MB)\n",
            "\u001b[K     |████████████████████████████████| 10.1MB 9.5MB/s \n",
            "\u001b[?25hRequirement already satisfied: docopt<0.7,>=0.6.1 in /usr/local/lib/python3.7/dist-packages (from sumy) (0.6.2)\n",
            "Requirement already satisfied: nltk>=3.0.2 in /usr/local/lib/python3.7/dist-packages (from sumy) (3.2.5)\n",
            "Requirement already satisfied: requests>=2.7.0 in /usr/local/lib/python3.7/dist-packages (from sumy) (2.23.0)\n",
            "Requirement already satisfied: chardet in /usr/local/lib/python3.7/dist-packages (from breadability>=0.1.20->sumy) (3.0.4)\n",
            "Requirement already satisfied: lxml>=2.0 in /usr/local/lib/python3.7/dist-packages (from breadability>=0.1.20->sumy) (4.2.6)\n",
            "Requirement already satisfied: six in /usr/local/lib/python3.7/dist-packages (from nltk>=3.0.2->sumy) (1.15.0)\n",
            "Requirement already satisfied: urllib3!=1.25.0,!=1.25.1,<1.26,>=1.21.1 in /usr/local/lib/python3.7/dist-packages (from requests>=2.7.0->sumy) (1.24.3)\n",
            "Requirement already satisfied: certifi>=2017.4.17 in /usr/local/lib/python3.7/dist-packages (from requests>=2.7.0->sumy) (2021.5.30)\n",
            "Requirement already satisfied: idna<3,>=2.5 in /usr/local/lib/python3.7/dist-packages (from requests>=2.7.0->sumy) (2.10)\n",
            "Building wheels for collected packages: breadability, pycountry\n",
            "  Building wheel for breadability (setup.py) ... \u001b[?25l\u001b[?25hdone\n",
            "  Created wheel for breadability: filename=breadability-0.1.20-py2.py3-none-any.whl size=21711 sha256=d68213718af424424a337e13951d1e92d772e4f04f8aa11e6f46be6d8cc79a91\n",
            "  Stored in directory: /root/.cache/pip/wheels/5a/4d/a1/510b12c5e65e0b2b3ce539b2af66da0fc57571e528924f4a52\n",
            "  Building wheel for pycountry (setup.py) ... \u001b[?25l\u001b[?25hdone\n",
            "  Created wheel for pycountry: filename=pycountry-20.7.3-py2.py3-none-any.whl size=10746883 sha256=749b9c019904a37f183db8dddfd14a08e4f98178e7e4d99027160dfb0983c019\n",
            "  Stored in directory: /root/.cache/pip/wheels/33/4e/a6/be297e6b83567e537bed9df4a93f8590ec01c1acfbcd405348\n",
            "Successfully built breadability pycountry\n",
            "Installing collected packages: breadability, pycountry, sumy\n",
            "Successfully installed breadability-0.1.20 pycountry-20.7.3 sumy-0.8.1\n"
          ],
          "name": "stdout"
        }
      ]
    },
    {
      "cell_type": "code",
      "metadata": {
        "id": "2WC_99oevw0X"
      },
      "source": [
        "# Load Packages\n",
        "import sumy"
      ],
      "execution_count": null,
      "outputs": []
    },
    {
      "cell_type": "code",
      "metadata": {
        "id": "wJlt-pZlwpZ_"
      },
      "source": [
        "from sumy.parsers.plaintext import PlaintextParser\n",
        "from sumy.nlp.tokenizers import Tokenizer\n",
        "from sumy.summarizers.lex_rank import LexRankSummarizer"
      ],
      "execution_count": null,
      "outputs": []
    },
    {
      "cell_type": "code",
      "metadata": {
        "colab": {
          "base_uri": "https://localhost:8080/"
        },
        "id": "hPliJnxiyDJA",
        "outputId": "b0c64077-6632-4e49-c0a2-27526a089506"
      },
      "source": [
        "import nltk\n",
        "nltk.download('punkt')"
      ],
      "execution_count": null,
      "outputs": [
        {
          "output_type": "stream",
          "text": [
            "[nltk_data] Downloading package punkt to /root/nltk_data...\n",
            "[nltk_data]   Unzipping tokenizers/punkt.zip.\n"
          ],
          "name": "stdout"
        },
        {
          "output_type": "execute_result",
          "data": {
            "text/plain": [
              "True"
            ]
          },
          "metadata": {
            "tags": []
          },
          "execution_count": 5
        }
      ]
    },
    {
      "cell_type": "code",
      "metadata": {
        "id": "7HHWK-6RxEnG"
      },
      "source": [
        "file=\"file.txt\"\n",
        "parser = PlaintextParser.from_file(file,Tokenizer(\"english\"))"
      ],
      "execution_count": null,
      "outputs": []
    },
    {
      "cell_type": "markdown",
      "metadata": {
        "id": "Vpd0_SxEiXjg"
      },
      "source": [
        "**LexRank**"
      ]
    },
    {
      "cell_type": "code",
      "metadata": {
        "id": "XFbjL1xBxNIQ"
      },
      "source": [
        "# Using LexRank\n",
        "summarizer = LexRankSummarizer()\n",
        "#Summarize the document with 5 sentences\n",
        "summary = summarizer(parser.document, 5)"
      ],
      "execution_count": null,
      "outputs": []
    },
    {
      "cell_type": "code",
      "metadata": {
        "colab": {
          "base_uri": "https://localhost:8080/"
        },
        "id": "jTxtd5ajyWW0",
        "outputId": "86b30c7f-0015-4b01-f3e1-56eb193c3b40"
      },
      "source": [
        "for sentence in summary:\n",
        "    print(sentence)"
      ],
      "execution_count": null,
      "outputs": [
        {
          "output_type": "stream",
          "text": [
            "‘No, I do not have that much amount and I want my kid back inspector.\n",
            "‘What do you want me to do’, she cried again\n",
            "He asked me to give you this’, and he handed her a piece of paper.\n",
            "Ravi Das is the same man, who is known for his record of highest score of 889 runs in a single inning in a test match played on school level.\n",
            "That morning I got a call, not for the team, but for something else.\n"
          ],
          "name": "stdout"
        }
      ]
    },
    {
      "cell_type": "markdown",
      "metadata": {
        "id": "NjxKOkotifHI"
      },
      "source": [
        "**Luhn**"
      ]
    },
    {
      "cell_type": "code",
      "metadata": {
        "id": "7J8Rg1XIzWPS"
      },
      "source": [
        "from sumy.summarizers.luhn import LuhnSummarizer"
      ],
      "execution_count": null,
      "outputs": []
    },
    {
      "cell_type": "code",
      "metadata": {
        "id": "aVjJgHi9ip9M"
      },
      "source": [
        "summarizer_luhn = LuhnSummarizer()\n",
        "summary_1 =summarizer_luhn(parser.document,5)"
      ],
      "execution_count": null,
      "outputs": []
    },
    {
      "cell_type": "code",
      "metadata": {
        "colab": {
          "base_uri": "https://localhost:8080/"
        },
        "id": "tC8vNB14ixW0",
        "outputId": "dd890834-137b-41da-ec6e-48356752bedb"
      },
      "source": [
        "for sentence in summary_1:\n",
        "    print(sentence)"
      ],
      "execution_count": null,
      "outputs": [
        {
          "output_type": "stream",
          "text": [
            "‘Mam, I can understand your pain and I would be doing the same if was in your place, but please try to understand.\n",
            "I assure you , your kid will be with you in the same state as he was in the last time.\n",
            "I am not saying that we could not handle the situation without the ransom money, but I want to explore all the safe options’\n",
            "No problem, I thought your husband works for this cricket committee so you would have an interest in it.Now this is not the case, switch on to the channel number 455.\n",
            "Ravi Das is the same man, who is known for his record of highest score of 889 runs in a single inning in a test match played on school level.\n"
          ],
          "name": "stdout"
        }
      ]
    },
    {
      "cell_type": "markdown",
      "metadata": {
        "id": "55ayVi7LjICg"
      },
      "source": [
        "**Latent Semantic Analysis**"
      ]
    },
    {
      "cell_type": "code",
      "metadata": {
        "id": "inFUTRAQjAjl"
      },
      "source": [
        "from sumy.summarizers.lsa import LsaSummarizer"
      ],
      "execution_count": null,
      "outputs": []
    },
    {
      "cell_type": "code",
      "metadata": {
        "id": "UHT1LItFjbcV"
      },
      "source": [
        "summarizer_lsa = LsaSummarizer()\n",
        "summary_2 =summarizer_lsa(parser.document,5)"
      ],
      "execution_count": null,
      "outputs": []
    },
    {
      "cell_type": "code",
      "metadata": {
        "colab": {
          "base_uri": "https://localhost:8080/"
        },
        "id": "zhRVnvUrjruC",
        "outputId": "c4894125-f92e-4697-9255-d0a843cd2169"
      },
      "source": [
        "for sentence in summary_2:\n",
        "    print(sentence)"
      ],
      "execution_count": null,
      "outputs": [
        {
          "output_type": "stream",
          "text": [
            "‘ I just want you to know that Ishan has life only till this match is running.\n",
            "Ishan’s father is in Dubai and I don’t want him to know about it there, understand’\n",
            "When only five balls were remaining she saw her Ishan dancing and enjoying in the stand\n",
            "Two years ago on this very same day, a team for Ranji Delhi was going to be announced.\n",
            "My family members were too happy as it was obvious that I would get a chance this time.\n"
          ],
          "name": "stdout"
        }
      ]
    },
    {
      "cell_type": "markdown",
      "metadata": {
        "id": "-hsEp-E4j3NY"
      },
      "source": [
        "**Edmundson**"
      ]
    },
    {
      "cell_type": "code",
      "metadata": {
        "id": "xiQPOcEwjt59"
      },
      "source": [
        "from sumy.summarizers.edmundson import EdmundsonSummarizer"
      ],
      "execution_count": null,
      "outputs": []
    },
    {
      "cell_type": "code",
      "metadata": {
        "id": "gzjscn-Qkkfk"
      },
      "source": [
        "summarizer_edm=EdmundsonSummarizer()\n",
        "summarizer_edm.bonus_words = ( \"husband\", \"twist\",\"death\")\n",
        "summarizer_edm.stigma_words = (\"kidnap\",\"gun\",\"sorry\")\n",
        "summarizer_edm.null_words=(\"kill\")\n",
        "summary_3=summarizer_edm(parser.document,5)"
      ],
      "execution_count": null,
      "outputs": []
    },
    {
      "cell_type": "code",
      "metadata": {
        "colab": {
          "base_uri": "https://localhost:8080/"
        },
        "id": "gNH7kF91lUyW",
        "outputId": "38de80b9-cbb4-4f81-99bd-3f1092d03d9d"
      },
      "source": [
        "for sentence in summary_3:\n",
        "    print(sentence)"
      ],
      "execution_count": null,
      "outputs": [
        {
          "output_type": "stream",
          "text": [
            "*Phone Ringing\n",
            "‘Put it on speaker’, the inspector instructed\n",
            "‘Hello’, She said\n",
            "A sad day for India today’\n",
            "The cricketer who never played.\n"
          ],
          "name": "stdout"
        }
      ]
    },
    {
      "cell_type": "markdown",
      "metadata": {
        "id": "7cqjVJcnt7oJ"
      },
      "source": [
        "**TextRank**"
      ]
    },
    {
      "cell_type": "code",
      "metadata": {
        "colab": {
          "base_uri": "https://localhost:8080/"
        },
        "id": "k_jfpf1-m0Du",
        "outputId": "26aa8715-27ee-4345-d378-6e6359009bc2"
      },
      "source": [
        "from sumy.summarizers.text_rank import TextRankSummarizer\n",
        "summarizer_3 = TextRankSummarizer()\n",
        "summary_4 =summarizer_3(parser.document,5)\n",
        "for sentence in summary_4:\n",
        " print(sentence)"
      ],
      "execution_count": null,
      "outputs": [
        {
          "output_type": "stream",
          "text": [
            "I assure you , your kid will be with you in the same state as he was in the last time.\n",
            "‘I know , till now the inspector has told you how naïve and unprofessional I am in this field of kidnapping.\n",
            "I am not saying that we could not handle the situation without the ransom money, but I want to explore all the safe options’\n",
            "No problem, I thought your husband works for this cricket committee so you would have an interest in it.Now this is not the case, switch on to the channel number 455.\n",
            "I want you to be present with the money in the Sachin Tendulkar stand of this stadium.\n"
          ],
          "name": "stdout"
        }
      ]
    },
    {
      "cell_type": "markdown",
      "metadata": {
        "id": "Xkr0auCyujzR"
      },
      "source": [
        "**KL Sum**"
      ]
    },
    {
      "cell_type": "code",
      "metadata": {
        "id": "Uylvl1gbuMu2"
      },
      "source": [
        "from sumy.summarizers.kl import KLSummarizer"
      ],
      "execution_count": null,
      "outputs": []
    },
    {
      "cell_type": "code",
      "metadata": {
        "id": "3Ohk8pZvu8P3"
      },
      "source": [
        "summarizer_kl = KLSummarizer()\n",
        "summary_5 = summarizer_kl(parser.document,5)"
      ],
      "execution_count": null,
      "outputs": []
    },
    {
      "cell_type": "code",
      "metadata": {
        "colab": {
          "base_uri": "https://localhost:8080/"
        },
        "id": "W_-MW68jvTzP",
        "outputId": "6d9c241c-f67b-4017-a1d1-397eae3c32cb"
      },
      "source": [
        "for sentence in summary_5:\n",
        "    print(sentence)"
      ],
      "execution_count": null,
      "outputs": [
        {
          "output_type": "stream",
          "text": [
            "Your Kid is with me.\n",
            "‘Inspector, he is my only kid.\n",
            "‘No, I do not have that much amount and I want my kid back inspector.\n",
            "The person on the other side asked for 20 lakhs for the final selection.\n",
            "Yes, he was from the cricket committee and yes the person was your husband.\n"
          ],
          "name": "stdout"
        }
      ]
    },
    {
      "cell_type": "code",
      "metadata": {
        "id": "9wvcsrCYwrk_"
      },
      "source": [
        ""
      ],
      "execution_count": null,
      "outputs": []
    }
  ]
}